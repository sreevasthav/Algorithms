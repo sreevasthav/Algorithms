{
 "cells": [
  {
   "cell_type": "markdown",
   "metadata": {},
   "source": [
    "#Coin Change"
   ]
  },
  {
   "cell_type": "code",
   "execution_count": 9,
   "metadata": {
    "collapsed": true
   },
   "outputs": [],
   "source": [
    "def Coinchange (S,N):\n",
    "    m = len(S)\n",
    "    tab = [[0]*m for i in xrange(N+1)]\n",
    "    for i in xrange(m):\n",
    "        tab[0][i] = 1\n",
    "    for i in xrange(1,N+1):\n",
    "        for j in xrange(m):\n",
    "            if i-S[j] >= 0:\n",
    "                x = tab[i-S[j]][j]\n",
    "            else:\n",
    "                x = 0\n",
    "            if j >= 1:\n",
    "                y = tab[i][j-1]\n",
    "            else:\n",
    "                y = 0\n",
    "            tab[i][j] = x + y\n",
    "    return tab[n][m-1]\n",
    "        \n",
    "    "
   ]
  },
  {
   "cell_type": "code",
   "execution_count": 10,
   "metadata": {
    "collapsed": false
   },
   "outputs": [
    {
     "name": "stdout",
     "output_type": "stream",
     "text": [
      "4\n"
     ]
    }
   ],
   "source": [
    "arr = [1, 2, 3]\n",
    "n = 4\n",
    "print(Coinchange(arr, n))"
   ]
  }
 ],
 "metadata": {
  "kernelspec": {
   "display_name": "Python 2",
   "language": "python",
   "name": "python2"
  },
  "language_info": {
   "codemirror_mode": {
    "name": "ipython",
    "version": 2
   },
   "file_extension": ".py",
   "mimetype": "text/x-python",
   "name": "python",
   "nbconvert_exporter": "python",
   "pygments_lexer": "ipython2",
   "version": "2.7.12"
  }
 },
 "nbformat": 4,
 "nbformat_minor": 0
}
