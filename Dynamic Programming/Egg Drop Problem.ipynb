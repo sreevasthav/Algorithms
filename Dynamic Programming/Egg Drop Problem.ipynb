{
 "cells": [
  {
   "cell_type": "code",
   "execution_count": 1,
   "metadata": {
    "collapsed": true
   },
   "outputs": [],
   "source": [
    "from sys import maxint"
   ]
  },
  {
   "cell_type": "code",
   "execution_count": 5,
   "metadata": {
    "collapsed": true
   },
   "outputs": [],
   "source": [
    "def eggDrop(n_egg,n_fl):\n",
    "    attempts = [[maxint for x in range(n_fl+1)] for x in range(n_egg+1)]\n",
    "    for i in range(1,n_egg+1):\n",
    "        attempts[i][0] = 0\n",
    "        attempts[i][1] = 1\n",
    "    for i in range(1,n_fl+1):\n",
    "        attempts[1][i] = i\n",
    "    for i in range(2,n_egg+1):\n",
    "        for j in range(2,n_fl+1):\n",
    "            for k in range(1,j+1):\n",
    "                if i > j :\n",
    "                    res = attempts[i-1][j]\n",
    "                else:\n",
    "                    res = 1 + max(attempts[i-1][k-1],attempts[i][j-k])\n",
    "                if res < attempts[i][j]:\n",
    "                    attempts[i][j] = res\n",
    "    return attempts[n_egg][n_fl]"
   ]
  },
  {
   "cell_type": "code",
   "execution_count": 6,
   "metadata": {
    "collapsed": false
   },
   "outputs": [
    {
     "name": "stdout",
     "output_type": "stream",
     "text": [
      "3\n"
     ]
    }
   ],
   "source": [
    "print eggDrop(2,6)"
   ]
  },
  {
   "cell_type": "code",
   "execution_count": null,
   "metadata": {
    "collapsed": true
   },
   "outputs": [],
   "source": []
  }
 ],
 "metadata": {
  "kernelspec": {
   "display_name": "Python 2",
   "language": "python",
   "name": "python2"
  },
  "language_info": {
   "codemirror_mode": {
    "name": "ipython",
    "version": 2
   },
   "file_extension": ".py",
   "mimetype": "text/x-python",
   "name": "python",
   "nbconvert_exporter": "python",
   "pygments_lexer": "ipython2",
   "version": "2.7.12"
  }
 },
 "nbformat": 4,
 "nbformat_minor": 0
}
