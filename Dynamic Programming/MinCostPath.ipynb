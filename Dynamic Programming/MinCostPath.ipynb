{
 "cells": [
  {
   "cell_type": "markdown",
   "metadata": {},
   "source": [
    "# Minimum Cost Path"
   ]
  },
  {
   "cell_type": "code",
   "execution_count": 1,
   "metadata": {
    "collapsed": true
   },
   "outputs": [],
   "source": [
    "def MCP(A,m,n):\n",
    "    mcp = [[0]*(n+1) for i in xrange(m+1)]\n",
    "    for i in xrange(m+1):\n",
    "        for j in xrange(n+1):\n",
    "            if i == 0:\n",
    "                mcp[i][j] = mcp[i][j-1] + A[i][j]\n",
    "            elif j == 0:\n",
    "                mcp[i][j] = mcp[i-1][j] + A[i][j]\n",
    "            else:\n",
    "                mcp[i][j] = min(mcp[i-1][j-1],mcp[i][j-1],mcp[i-1][j]) + A[i][j]\n",
    "    return mcp[m][n]\n",
    "            \n",
    "    "
   ]
  },
  {
   "cell_type": "code",
   "execution_count": 8,
   "metadata": {
    "collapsed": false
   },
   "outputs": [
    {
     "name": "stdout",
     "output_type": "stream",
     "text": [
      "6\n"
     ]
    }
   ],
   "source": [
    "cost = [[1, 2, 3],\n",
    "        [4, 8, 2],\n",
    "        [1, 5, 3]]\n",
    "print MCP(cost,2,0)"
   ]
  }
 ],
 "metadata": {
  "kernelspec": {
   "display_name": "Python 2",
   "language": "python",
   "name": "python2"
  },
  "language_info": {
   "codemirror_mode": {
    "name": "ipython",
    "version": 2
   },
   "file_extension": ".py",
   "mimetype": "text/x-python",
   "name": "python",
   "nbconvert_exporter": "python",
   "pygments_lexer": "ipython2",
   "version": "2.7.12"
  }
 },
 "nbformat": 4,
 "nbformat_minor": 0
}
