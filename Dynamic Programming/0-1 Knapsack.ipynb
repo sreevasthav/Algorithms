{
 "cells": [
  {
   "cell_type": "code",
   "execution_count": 1,
   "metadata": {
    "collapsed": true
   },
   "outputs": [],
   "source": [
    "def knapsack(wt,W,val):\n",
    "    n = len(W)\n",
    "    K = [[0 for x in range(wt+1)] for x in range(n+1)]\n",
    "    for i in range(1,n+1):\n",
    "        for j in range(1,wt+1):\n",
    "            if W[i-1] < W :\n",
    "                K[i][j] = max(val[i-1] + K[i-1][j-W[i-1]],K[i-1][j])\n",
    "            else:\n",
    "                K[i][j] = K[i-1][j]\n",
    "    return K[n][wt]"
   ]
  },
  {
   "cell_type": "code",
   "execution_count": 2,
   "metadata": {
    "collapsed": false
   },
   "outputs": [
    {
     "name": "stdout",
     "output_type": "stream",
     "text": [
      "220\n"
     ]
    }
   ],
   "source": [
    "val = [60, 100, 120]\n",
    "wt = [10, 20, 30]\n",
    "W = 50\n",
    "print knapsack(W,wt,val)"
   ]
  },
  {
   "cell_type": "code",
   "execution_count": null,
   "metadata": {
    "collapsed": true
   },
   "outputs": [],
   "source": []
  }
 ],
 "metadata": {
  "kernelspec": {
   "display_name": "Python 2",
   "language": "python",
   "name": "python2"
  },
  "language_info": {
   "codemirror_mode": {
    "name": "ipython",
    "version": 2
   },
   "file_extension": ".py",
   "mimetype": "text/x-python",
   "name": "python",
   "nbconvert_exporter": "python",
   "pygments_lexer": "ipython2",
   "version": "2.7.12"
  }
 },
 "nbformat": 4,
 "nbformat_minor": 0
}
