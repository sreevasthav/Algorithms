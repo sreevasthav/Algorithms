{
 "cells": [
  {
   "cell_type": "code",
   "execution_count": 3,
   "metadata": {
    "collapsed": true
   },
   "outputs": [],
   "source": [
    "def coins_min(coins,N):\n",
    "    n = len(coins)\n",
    "    Min = [[0 for i in range(N+1)] for j in range(n+1)]\n",
    "    for i in range(1,n+1):\n",
    "        for j in range(1,N+1):\n",
    "            if coins[i-1] < N:\n",
    "                Min[i][j] = min(1 + Min[i][j-coins[i-1]],Min[i-1][j])\n",
    "            else:\n",
    "                Min[i][j] = Min[i-1][j]\n",
    "    return Min[n][N]\n",
    "    "
   ]
  },
  {
   "cell_type": "code",
   "execution_count": 4,
   "metadata": {
    "collapsed": false
   },
   "outputs": [
    {
     "name": "stdout",
     "output_type": "stream",
     "text": [
      "0\n"
     ]
    }
   ],
   "source": [
    "arr = [1, 2, 3]\n",
    "n = 4\n",
    "print coins_min(arr,n)"
   ]
  },
  {
   "cell_type": "code",
   "execution_count": null,
   "metadata": {
    "collapsed": true
   },
   "outputs": [],
   "source": []
  }
 ],
 "metadata": {
  "kernelspec": {
   "display_name": "Python 2",
   "language": "python",
   "name": "python2"
  },
  "language_info": {
   "codemirror_mode": {
    "name": "ipython",
    "version": 2
   },
   "file_extension": ".py",
   "mimetype": "text/x-python",
   "name": "python",
   "nbconvert_exporter": "python",
   "pygments_lexer": "ipython2",
   "version": "2.7.12"
  }
 },
 "nbformat": 4,
 "nbformat_minor": 0
}
