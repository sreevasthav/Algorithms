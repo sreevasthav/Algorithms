{
 "cells": [
  {
   "cell_type": "code",
   "execution_count": 7,
   "metadata": {
    "collapsed": true
   },
   "outputs": [],
   "source": [
    "def subset(s,sum):\n",
    "    n = len(s)\n",
    "    subset = [[False for i in range(sum+1)] for i in range(n+1)]\n",
    "    for i in range(n):\n",
    "        subset[i][0] = True\n",
    "    for i in range(1,n+1):\n",
    "        for j in range(1,sum+1):\n",
    "            if j < s[i-1]:\n",
    "                subset[i][j] = subset[i-1][j]\n",
    "            else:\n",
    "                subset[i][j] = subset[i-1][j] or subset[i-1][j-s[i-1]]\n",
    "    return subset[n][sum]\n"
   ]
  },
  {
   "cell_type": "code",
   "execution_count": 8,
   "metadata": {
    "collapsed": false
   },
   "outputs": [
    {
     "name": "stdout",
     "output_type": "stream",
     "text": [
      "True\n"
     ]
    }
   ],
   "source": [
    "A = [2,3,7,8,10]\n",
    "sum = 11\n",
    "print subset(A,sum)"
   ]
  },
  {
   "cell_type": "code",
   "execution_count": null,
   "metadata": {
    "collapsed": true
   },
   "outputs": [],
   "source": []
  }
 ],
 "metadata": {
  "kernelspec": {
   "display_name": "Python 2",
   "language": "python",
   "name": "python2"
  },
  "language_info": {
   "codemirror_mode": {
    "name": "ipython",
    "version": 2
   },
   "file_extension": ".py",
   "mimetype": "text/x-python",
   "name": "python",
   "nbconvert_exporter": "python",
   "pygments_lexer": "ipython2",
   "version": "2.7.12"
  }
 },
 "nbformat": 4,
 "nbformat_minor": 0
}
