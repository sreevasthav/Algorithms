{
 "cells": [
  {
   "cell_type": "markdown",
   "metadata": {},
   "source": [
    "# Longest Common Subsequence"
   ]
  },
  {
   "cell_type": "code",
   "execution_count": 7,
   "metadata": {
    "collapsed": false
   },
   "outputs": [
    {
     "name": "stdout",
     "output_type": "stream",
     "text": [
      "\n"
     ]
    }
   ],
   "source": [
    "def LCS(A,B):\n",
    "    m = len(A)\n",
    "    n = len(B)\n",
    "    lcs = [[None]*(n+1) for i in xrange(m+1)]\n",
    "    for i in xrange(m+1):\n",
    "        for j in xrange(n+1):\n",
    "            if i == 0 or j == 0 :\n",
    "                lcs[i][j] = 0\n",
    "            elif A[i-1] == B[j-1]:\n",
    "                lcs[i][j] = 1 + lcs[i-1][j-1]\n",
    "            else :\n",
    "                lcs[i][j] = max (lcs[i][j-1],lcs[i-1][j])\n",
    "    return lcs[m][n]"
   ]
  },
  {
   "cell_type": "code",
   "execution_count": 8,
   "metadata": {
    "collapsed": false
   },
   "outputs": [
    {
     "name": "stdout",
     "output_type": "stream",
     "text": [
      "Length of LCS is  4\n"
     ]
    }
   ],
   "source": [
    "X = \"AGGTAB\"\n",
    "Y = \"GXTXAYB\"\n",
    "print \"Length of LCS is \", LCS(X, Y)"
   ]
  }
 ],
 "metadata": {
  "kernelspec": {
   "display_name": "Python 2",
   "language": "python",
   "name": "python2"
  },
  "language_info": {
   "codemirror_mode": {
    "name": "ipython",
    "version": 2
   },
   "file_extension": ".py",
   "mimetype": "text/x-python",
   "name": "python",
   "nbconvert_exporter": "python",
   "pygments_lexer": "ipython2",
   "version": "2.7.12"
  }
 },
 "nbformat": 4,
 "nbformat_minor": 0
}
