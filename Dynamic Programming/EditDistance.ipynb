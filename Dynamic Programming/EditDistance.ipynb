{
 "cells": [
  {
   "cell_type": "markdown",
   "metadata": {},
   "source": [
    "#Edit Distance"
   ]
  },
  {
   "cell_type": "code",
   "execution_count": 1,
   "metadata": {
    "collapsed": true
   },
   "outputs": [],
   "source": [
    "def ED(x,y):\n",
    "    m = len(x)\n",
    "    n = len(y)\n",
    "    edit = [[None]*(n+1) for i in xrange(m+1)]\n",
    "    for i in xrange(m+1):\n",
    "        for j in xrange(n+1):\n",
    "            if j == 0 :\n",
    "                edit[i][j] = i\n",
    "            elif i == 0 :\n",
    "                edit[i][j] = j\n",
    "            elif x[i-1] == y[j-1]:\n",
    "                edit[i][j] = edit[i-1][j-1]\n",
    "            else:\n",
    "                edit[i][j] = min(edit[i-1][j],edit[i][j-1],edit[i-1][j-1]) + 1\n",
    "    return edit[m][n]\n",
    "    "
   ]
  },
  {
   "cell_type": "code",
   "execution_count": 2,
   "metadata": {
    "collapsed": false
   },
   "outputs": [
    {
     "name": "stdout",
     "output_type": "stream",
     "text": [
      "3\n"
     ]
    }
   ],
   "source": [
    "str1 = \"sunday\"\n",
    "str2 = \"saturday\"\n",
    " \n",
    "print ED(str1, str2)"
   ]
  }
 ],
 "metadata": {
  "kernelspec": {
   "display_name": "Python 2",
   "language": "python",
   "name": "python2"
  },
  "language_info": {
   "codemirror_mode": {
    "name": "ipython",
    "version": 2
   },
   "file_extension": ".py",
   "mimetype": "text/x-python",
   "name": "python",
   "nbconvert_exporter": "python",
   "pygments_lexer": "ipython2",
   "version": "2.7.12"
  }
 },
 "nbformat": 4,
 "nbformat_minor": 0
}
