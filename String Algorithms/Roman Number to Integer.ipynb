{
 "cells": [
  {
   "cell_type": "code",
   "execution_count": 10,
   "metadata": {
    "collapsed": true
   },
   "outputs": [],
   "source": [
    "def values(r):\n",
    "    if r is 'I':\n",
    "        return 1\n",
    "    if r is 'V':\n",
    "        return 5\n",
    "    if r is 'X':\n",
    "        return 10\n",
    "    if r is 'C':\n",
    "        return 100\n",
    "    if r is 'D':\n",
    "        return 500\n",
    "    if r is 'M':\n",
    "        return 1000"
   ]
  },
  {
   "cell_type": "code",
   "execution_count": 15,
   "metadata": {
    "collapsed": false
   },
   "outputs": [],
   "source": [
    "def roman_to_decimal(string):\n",
    "    res = 0\n",
    "    i = 0\n",
    "    while i < len(string) :\n",
    "        s1 = values(string[i])\n",
    "        if i+1 < len(string):\n",
    "            s2 = values(string[i+1])\n",
    "            if s1 >= s2 :\n",
    "                res = res + s1\n",
    "                i = i + 1\n",
    "            else:\n",
    "                res = res + s2 - s1\n",
    "                i = i + 2\n",
    "        else:\n",
    "            res = res + s1\n",
    "            i = i + 1\n",
    "    return res"
   ]
  },
  {
   "cell_type": "code",
   "execution_count": 16,
   "metadata": {
    "collapsed": false
   },
   "outputs": [
    {
     "name": "stdout",
     "output_type": "stream",
     "text": [
      "1904\n"
     ]
    }
   ],
   "source": [
    "print roman_to_decimal(\"MCMIV\")"
   ]
  },
  {
   "cell_type": "code",
   "execution_count": 17,
   "metadata": {
    "collapsed": false
   },
   "outputs": [
    {
     "name": "stdout",
     "output_type": "stream",
     "text": [
      "10\n"
     ]
    }
   ],
   "source": [
    "print values('X')"
   ]
  },
  {
   "cell_type": "code",
   "execution_count": null,
   "metadata": {
    "collapsed": true
   },
   "outputs": [],
   "source": []
  }
 ],
 "metadata": {
  "kernelspec": {
   "display_name": "Python 2",
   "language": "python",
   "name": "python2"
  },
  "language_info": {
   "codemirror_mode": {
    "name": "ipython",
    "version": 2
   },
   "file_extension": ".py",
   "mimetype": "text/x-python",
   "name": "python",
   "nbconvert_exporter": "python",
   "pygments_lexer": "ipython2",
   "version": "2.7.12"
  }
 },
 "nbformat": 4,
 "nbformat_minor": 0
}
