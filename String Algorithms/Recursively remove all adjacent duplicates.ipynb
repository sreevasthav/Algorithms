{
 "cells": [
  {
   "cell_type": "code",
   "execution_count": 3,
   "metadata": {
    "collapsed": true
   },
   "outputs": [],
   "source": [
    "def rec_rem_adj_duplicates(string) :\n",
    "    listed = []\n",
    "    for i in string:\n",
    "        length = len(listed)\n",
    "        if length == 0 :\n",
    "            listed.append(i)\n",
    "        else:\n",
    "            if i == listed[length - 1]:\n",
    "                listed.pop()\n",
    "            else:\n",
    "                listed.append(i)\n",
    "    return \"\".join(listed)"
   ]
  },
  {
   "cell_type": "code",
   "execution_count": 4,
   "metadata": {
    "collapsed": false
   },
   "outputs": [
    {
     "name": "stdout",
     "output_type": "stream",
     "text": [
      "gksforgk\n"
     ]
    }
   ],
   "source": [
    "print rec_rem_adj_duplicates('geeksforgeek')"
   ]
  },
  {
   "cell_type": "code",
   "execution_count": 5,
   "metadata": {
    "collapsed": false
   },
   "outputs": [
    {
     "name": "stdout",
     "output_type": "stream",
     "text": [
      "acabac\n"
     ]
    }
   ],
   "source": [
    "print rec_rem_adj_duplicates('acaaabbbacdddd')"
   ]
  },
  {
   "cell_type": "code",
   "execution_count": null,
   "metadata": {
    "collapsed": true
   },
   "outputs": [],
   "source": []
  }
 ],
 "metadata": {
  "kernelspec": {
   "display_name": "Python 2",
   "language": "python",
   "name": "python2"
  },
  "language_info": {
   "codemirror_mode": {
    "name": "ipython",
    "version": 2
   },
   "file_extension": ".py",
   "mimetype": "text/x-python",
   "name": "python",
   "nbconvert_exporter": "python",
   "pygments_lexer": "ipython2",
   "version": "2.7.12"
  }
 },
 "nbformat": 4,
 "nbformat_minor": 0
}
