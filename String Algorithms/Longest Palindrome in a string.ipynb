{
 "cells": [
  {
   "cell_type": "code",
   "execution_count": 2,
   "metadata": {
    "collapsed": false
   },
   "outputs": [],
   "source": [
    "def LPS_recur (string , l, r):\n",
    "    if l == r :\n",
    "        return 1\n",
    "    if string[l] == string[r] and r == l+1 :\n",
    "        return 2\n",
    "    if string[l] == string[r]:\n",
    "        return LPS_recur(string,l+1,r-1) + 2\n",
    "    return max (LPS_recur(string,l+1,r),LPS_recur(string,l,r-1))\n",
    "        "
   ]
  },
  {
   "cell_type": "code",
   "execution_count": 5,
   "metadata": {
    "collapsed": false
   },
   "outputs": [],
   "source": [
    "def LPS_DP (string):\n",
    "    n = len(string)\n",
    "    L = [[0 for x in xrange(n)] for x in range(n)]\n",
    "    for i in range(n):\n",
    "        L[i][i] = 1\n",
    "    for cl in range(2,n+1):\n",
    "        for i in range(n-cl+1):\n",
    "            j = i+cl-1\n",
    "            if string[i] == string[j] and cl == 2:\n",
    "                L[i][j] = 2\n",
    "            elif string[i] == string[j]:\n",
    "                L[i][j] = L[i+1][j-1] + 2\n",
    "            else:\n",
    "                L[i][j] = max(L[i+1][j],L[i][j-1])\n",
    "    return L[0][n-1]\n",
    "    "
   ]
  },
  {
   "cell_type": "code",
   "execution_count": 6,
   "metadata": {
    "collapsed": false
   },
   "outputs": [
    {
     "name": "stdout",
     "output_type": "stream",
     "text": [
      "7\n"
     ]
    }
   ],
   "source": [
    "seq = \"GEEKS FOR GEEKS\"\n",
    "print LPS_DP(seq)"
   ]
  },
  {
   "cell_type": "code",
   "execution_count": null,
   "metadata": {
    "collapsed": true
   },
   "outputs": [],
   "source": []
  }
 ],
 "metadata": {
  "kernelspec": {
   "display_name": "Python 2",
   "language": "python",
   "name": "python2"
  },
  "language_info": {
   "codemirror_mode": {
    "name": "ipython",
    "version": 2
   },
   "file_extension": ".py",
   "mimetype": "text/x-python",
   "name": "python",
   "nbconvert_exporter": "python",
   "pygments_lexer": "ipython2",
   "version": "2.7.12"
  }
 },
 "nbformat": 4,
 "nbformat_minor": 0
}
