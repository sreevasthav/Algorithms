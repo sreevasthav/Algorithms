{
 "cells": [
  {
   "cell_type": "code",
   "execution_count": 8,
   "metadata": {
    "collapsed": false
   },
   "outputs": [],
   "source": [
    "def KMP (strn,pat):\n",
    "    M = len(pat)\n",
    "    N = len(strn)\n",
    "    lis = [0]*M\n",
    "    findLis(pat,M,lis)\n",
    "    i = 0\n",
    "    j = 0\n",
    "    while i < N :\n",
    "        if strn[i] == pat[j]:\n",
    "            j = j + 1\n",
    "            i = i +1\n",
    "            if j == M:\n",
    "                print \"Found pattern at \" + str(i-j)\n",
    "                j = lis[j-1]\n",
    "        elif i < N and strn[i] != pat[j]:\n",
    "            if j!= 0:\n",
    "                j = lis[j-1]\n",
    "            else:\n",
    "                i = i +1\n",
    "            "
   ]
  },
  {
   "cell_type": "code",
   "execution_count": 9,
   "metadata": {
    "collapsed": false
   },
   "outputs": [],
   "source": [
    "def findLis(pat,M,lis):\n",
    "    i = 1\n",
    "    j = 0\n",
    "    while i < M:\n",
    "        if pat[j] == pat[i]:\n",
    "            j  = j + 1\n",
    "            lis[i] = j\n",
    "            i = i + 1\n",
    "        else:\n",
    "            if j != 0 :\n",
    "                j = lis[j-1]\n",
    "            else:\n",
    "                lis[i] = 0\n",
    "                i = i + 1\n",
    "            "
   ]
  },
  {
   "cell_type": "code",
   "execution_count": 10,
   "metadata": {
    "collapsed": false
   },
   "outputs": [
    {
     "name": "stdout",
     "output_type": "stream",
     "text": [
      "Found pattern at10\n"
     ]
    }
   ],
   "source": [
    " \n",
    "txt = \"ABABDABACDABABCABAB\"\n",
    "pat = \"ABABCABAB\"\n",
    "KMP(txt,pat)"
   ]
  },
  {
   "cell_type": "code",
   "execution_count": null,
   "metadata": {
    "collapsed": true
   },
   "outputs": [],
   "source": []
  }
 ],
 "metadata": {
  "kernelspec": {
   "display_name": "Python 2",
   "language": "python",
   "name": "python2"
  },
  "language_info": {
   "codemirror_mode": {
    "name": "ipython",
    "version": 2
   },
   "file_extension": ".py",
   "mimetype": "text/x-python",
   "name": "python",
   "nbconvert_exporter": "python",
   "pygments_lexer": "ipython2",
   "version": "2.7.12"
  }
 },
 "nbformat": 4,
 "nbformat_minor": 0
}
