{
 "cells": [
  {
   "cell_type": "markdown",
   "metadata": {},
   "source": [
    "# Unpacking"
   ]
  },
  {
   "cell_type": "code",
   "execution_count": 1,
   "metadata": {
    "collapsed": true
   },
   "outputs": [],
   "source": [
    "def sumi(a,b,c,d):\n",
    "    return a+b+c+d\n"
   ]
  },
  {
   "cell_type": "code",
   "execution_count": 2,
   "metadata": {
    "collapsed": false
   },
   "outputs": [
    {
     "name": "stdout",
     "output_type": "stream",
     "text": [
      "10\n"
     ]
    }
   ],
   "source": [
    "lis = [1,2,3,4]\n",
    "print sumi(*lis)"
   ]
  },
  {
   "cell_type": "markdown",
   "metadata": {},
   "source": [
    "# Packing"
   ]
  },
  {
   "cell_type": "code",
   "execution_count": 3,
   "metadata": {
    "collapsed": false
   },
   "outputs": [
    {
     "name": "stdout",
     "output_type": "stream",
     "text": [
      "15\n",
      "30\n"
     ]
    }
   ],
   "source": [
    "def mySum(*args):\n",
    "    sum = 0\n",
    "    for i in range(0, len(args)):\n",
    "        sum = sum + args[i]\n",
    "    return sum\n",
    " \n",
    "# Driver code\n",
    "print(mySum(1, 2, 3, 4, 5))\n",
    "print(mySum(10, 20))"
   ]
  },
  {
   "cell_type": "markdown",
   "metadata": {},
   "source": [
    "#Packing and unpacking"
   ]
  },
  {
   "cell_type": "code",
   "execution_count": 4,
   "metadata": {
    "collapsed": false
   },
   "outputs": [
    {
     "name": "stdout",
     "output_type": "stream",
     "text": [
      "('Geeksforgeeks', 'awesome', 'world!')\n"
     ]
    }
   ],
   "source": [
    "# A Python program to demonstrate both packing and\n",
    "# unpacking.\n",
    " \n",
    "# A sample python function that takes three arguments\n",
    "# and prints them\n",
    "def fun1(a, b, c):\n",
    "    print(a, b, c)\n",
    " \n",
    "# Another sample function.\n",
    "# This is an example of PACKING. All arguments passed\n",
    "# to fun2 are packed into tuple *args.\n",
    "def fun2(*args):\n",
    " \n",
    "    # Convert args tuple to a list so we can modify it\n",
    "    args = list(args)\n",
    " \n",
    "    # Modifying args\n",
    "    args[0] = 'Geeksforgeeks'\n",
    "    args[1] = 'awesome'\n",
    " \n",
    "    # UNPACKING args and calling fun1()\n",
    "    fun1(*args)\n",
    " \n",
    "# Driver code\n",
    "fun2('Hello', 'beautiful', 'world!')"
   ]
  },
  {
   "cell_type": "markdown",
   "metadata": {},
   "source": [
    "# For Dictionaries"
   ]
  },
  {
   "cell_type": "code",
   "execution_count": 8,
   "metadata": {
    "collapsed": false
   },
   "outputs": [],
   "source": [
    "def dictionary (**kwargs):\n",
    "    for key in kwargs:\n",
    "        print(\"%s = %s\" % (key, kwargs[key]))\n"
   ]
  },
  {
   "cell_type": "code",
   "execution_count": 9,
   "metadata": {
    "collapsed": false
   },
   "outputs": [
    {
     "name": "stdout",
     "output_type": "stream",
     "text": [
      "name = geeks\n",
      "language = Python\n",
      "ID = 101\n"
     ]
    }
   ],
   "source": [
    "dictionary(name=\"geeks\", ID=\"101\", language=\"Python\")"
   ]
  },
  {
   "cell_type": "code",
   "execution_count": 10,
   "metadata": {
    "collapsed": false
   },
   "outputs": [
    {
     "name": "stdout",
     "output_type": "stream",
     "text": [
      "(2, 4, 10)\n"
     ]
    }
   ],
   "source": [
    "def fun(a, b, c):\n",
    "    print(a, b, c)\n",
    " \n",
    "# A call with unpacking of dictionary\n",
    "d = {'a':2, 'b':4, 'c':10}\n",
    "fun(**d)"
   ]
  },
  {
   "cell_type": "code",
   "execution_count": null,
   "metadata": {
    "collapsed": true
   },
   "outputs": [],
   "source": []
  }
 ],
 "metadata": {
  "kernelspec": {
   "display_name": "Python 2",
   "language": "python",
   "name": "python2"
  },
  "language_info": {
   "codemirror_mode": {
    "name": "ipython",
    "version": 2
   },
   "file_extension": ".py",
   "mimetype": "text/x-python",
   "name": "python",
   "nbconvert_exporter": "python",
   "pygments_lexer": "ipython2",
   "version": "2.7.12"
  }
 },
 "nbformat": 4,
 "nbformat_minor": 0
}
