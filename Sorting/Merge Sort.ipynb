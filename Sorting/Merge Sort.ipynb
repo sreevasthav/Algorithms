{
 "cells": [
  {
   "cell_type": "code",
   "execution_count": 7,
   "metadata": {
    "collapsed": false
   },
   "outputs": [
    {
     "name": "stdout",
     "output_type": "stream",
     "text": [
      "\n"
     ]
    }
   ],
   "source": [
    "def mergesort(A,l,r):\n",
    "    if l < r:\n",
    "        m = l + (r-l)/2\n",
    "        mergesort(A,l,m)\n",
    "        mergesort(A,m+1,r)\n",
    "        merge(A,l,m,r)"
   ]
  },
  {
   "cell_type": "code",
   "execution_count": 8,
   "metadata": {
    "collapsed": false
   },
   "outputs": [],
   "source": [
    "def merge(A,l,m,r):\n",
    "    n1 =  m-l + 1\n",
    "    n2 = r - m\n",
    "    L = [0]* n1\n",
    "    R = [0]* n2\n",
    "    for i in range(n1):\n",
    "        L[i] = A[l + i]\n",
    "    for i in range(n2):\n",
    "        R[i] = A[m+1 + i]\n",
    "    i  = 0\n",
    "    j = 0\n",
    "    k = l\n",
    "    while i < n1 and j < n2:\n",
    "        if L[i] < R[j]:\n",
    "            A[k] = L[i]\n",
    "            i = i + 1\n",
    "        else:\n",
    "            A[k] = R[j]\n",
    "            j = j + 1\n",
    "        k = k + 1\n",
    "    while i < n1 :\n",
    "        A[k] = L[i]\n",
    "        k = k + 1\n",
    "        i = i + 1\n",
    "    while j < n2 :\n",
    "        A[k] = R[j]\n",
    "        k = k + 1\n",
    "        j = j + 1\n",
    "    \n",
    "            \n",
    "            \n",
    "        "
   ]
  },
  {
   "cell_type": "code",
   "execution_count": 9,
   "metadata": {
    "collapsed": false
   },
   "outputs": [
    {
     "name": "stdout",
     "output_type": "stream",
     "text": [
      "Given array is\n",
      "12 11 13 5 6 7 \n",
      "\n",
      "Sorted array is\n",
      "5 6 7 11 12 13\n"
     ]
    }
   ],
   "source": [
    "arr = [12, 11, 13, 5, 6, 7]\n",
    "n = len(arr)\n",
    "print (\"Given array is\")\n",
    "for i in range(n):\n",
    "    print (\"%d\" %arr[i]),\n",
    " \n",
    "mergesort(arr,0,n-1)\n",
    "print (\"\\n\\nSorted array is\")\n",
    "for i in range(n):\n",
    "    print (\"%d\" %arr[i]),"
   ]
  },
  {
   "cell_type": "code",
   "execution_count": null,
   "metadata": {
    "collapsed": true
   },
   "outputs": [],
   "source": []
  }
 ],
 "metadata": {
  "kernelspec": {
   "display_name": "Python 2",
   "language": "python",
   "name": "python2"
  },
  "language_info": {
   "codemirror_mode": {
    "name": "ipython",
    "version": 2
   },
   "file_extension": ".py",
   "mimetype": "text/x-python",
   "name": "python",
   "nbconvert_exporter": "python",
   "pygments_lexer": "ipython2",
   "version": "2.7.12"
  }
 },
 "nbformat": 4,
 "nbformat_minor": 0
}
