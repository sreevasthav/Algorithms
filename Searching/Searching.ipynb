{
 "cells": [
  {
   "cell_type": "markdown",
   "metadata": {},
   "source": [
    "#Unordered Linear search"
   ]
  },
  {
   "cell_type": "code",
   "execution_count": 1,
   "metadata": {
    "collapsed": true
   },
   "outputs": [],
   "source": [
    "def UnorderLinSearch(A,value):\n",
    "    N = len(A)\n",
    "    for i in xrange(N):\n",
    "        if value == A[i]:\n",
    "            return i\n",
    "    return -1\n",
    "        "
   ]
  },
  {
   "cell_type": "markdown",
   "metadata": {},
   "source": [
    "# Ordered Linear Search"
   ]
  },
  {
   "cell_type": "code",
   "execution_count": 3,
   "metadata": {
    "collapsed": true
   },
   "outputs": [],
   "source": [
    "def OrderedLinSearch(A,value):\n",
    "    N = len(A)\n",
    "    for i in xrange(N):\n",
    "        if value == A[i]:\n",
    "            return i\n",
    "        elif value < A[i]:\n",
    "            return -1\n",
    "    return -1"
   ]
  },
  {
   "cell_type": "markdown",
   "metadata": {},
   "source": [
    "#Binary Search"
   ]
  },
  {
   "cell_type": "code",
   "execution_count": 8,
   "metadata": {
    "collapsed": true
   },
   "outputs": [],
   "source": [
    "def BinarySearch(A,low,high,value):\n",
    "    #N = len(A)\n",
    "    mid = low + (high-low)/2\n",
    "    if value == A[mid]:\n",
    "        return mid\n",
    "    elif value > A[mid]:\n",
    "        return BinarySearch(A,mid+1,high,value)\n",
    "    else:\n",
    "        return BinarySearch(A,low,mid-1,value)"
   ]
  },
  {
   "cell_type": "code",
   "execution_count": 9,
   "metadata": {
    "collapsed": false
   },
   "outputs": [
    {
     "name": "stdout",
     "output_type": "stream",
     "text": [
      "2\n",
      "2\n",
      "5\n"
     ]
    }
   ],
   "source": [
    "A = [1,5,20,4,18,9,3,11]\n",
    "B = [1,5,10,18,89,118,224]\n",
    "a = UnorderLinSearch(A,20)\n",
    "print a\n",
    "b = OrderedLinSearch(B,10)\n",
    "c = BinarySearch(B,0,6,118)\n",
    "print b\n",
    "print c"
   ]
  },
  {
   "cell_type": "code",
   "execution_count": null,
   "metadata": {
    "collapsed": true
   },
   "outputs": [],
   "source": []
  }
 ],
 "metadata": {
  "kernelspec": {
   "display_name": "Python 2",
   "language": "python",
   "name": "python2"
  },
  "language_info": {
   "codemirror_mode": {
    "name": "ipython",
    "version": 2
   },
   "file_extension": ".py",
   "mimetype": "text/x-python",
   "name": "python",
   "nbconvert_exporter": "python",
   "pygments_lexer": "ipython2",
   "version": "2.7.12"
  }
 },
 "nbformat": 4,
 "nbformat_minor": 0
}
