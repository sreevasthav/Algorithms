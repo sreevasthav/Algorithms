{
 "cells": [
  {
   "cell_type": "code",
   "execution_count": 1,
   "metadata": {
    "collapsed": true
   },
   "outputs": [],
   "source": [
    "class Node:\n",
    "    def __init__(self,key):\n",
    "        self.left = None\n",
    "        self.right = None\n",
    "        self.data = key"
   ]
  },
  {
   "cell_type": "code",
   "execution_count": 10,
   "metadata": {
    "collapsed": false
   },
   "outputs": [],
   "source": [
    "def IsBST(root):\n",
    "    if root is None:\n",
    "        return 1\n",
    "    if root.left is not None and root.data < MaxEle_recur(root.left):\n",
    "        return 0\n",
    "    if root.right is not None and root.data > MinEle_recur(root.right):\n",
    "        return 0\n",
    "    if not IsBST(root.left) or not IsBST(root.right):\n",
    "        return 0\n",
    "    return 1\n",
    "    \n",
    "    "
   ]
  },
  {
   "cell_type": "code",
   "execution_count": 11,
   "metadata": {
    "collapsed": true
   },
   "outputs": [],
   "source": [
    "def MinEle_recur(root):\n",
    "    if root is None:\n",
    "        return None\n",
    "    if root.left is None:\n",
    "        return root.data\n",
    "    else:\n",
    "        MinEle_recur(root.left)\n",
    "        "
   ]
  },
  {
   "cell_type": "code",
   "execution_count": 12,
   "metadata": {
    "collapsed": true
   },
   "outputs": [],
   "source": [
    "def MaxEle_recur(root):\n",
    "    if root is None:\n",
    "        return None\n",
    "    if root.right is None:\n",
    "        return root.data\n",
    "    else:\n",
    "        MaxEle_recur(root.right)"
   ]
  },
  {
   "cell_type": "code",
   "execution_count": null,
   "metadata": {
    "collapsed": true
   },
   "outputs": [],
   "source": []
  }
 ],
 "metadata": {
  "kernelspec": {
   "display_name": "Python 2",
   "language": "python",
   "name": "python2"
  },
  "language_info": {
   "codemirror_mode": {
    "name": "ipython",
    "version": 2
   },
   "file_extension": ".py",
   "mimetype": "text/x-python",
   "name": "python",
   "nbconvert_exporter": "python",
   "pygments_lexer": "ipython2",
   "version": "2.7.12"
  }
 },
 "nbformat": 4,
 "nbformat_minor": 0
}
