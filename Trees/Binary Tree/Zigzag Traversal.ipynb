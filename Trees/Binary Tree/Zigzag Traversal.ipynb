{
 "cells": [
  {
   "cell_type": "markdown",
   "metadata": {},
   "source": [
    "# Zigzag Traversal"
   ]
  },
  {
   "cell_type": "code",
   "execution_count": 1,
   "metadata": {
    "collapsed": true
   },
   "outputs": [],
   "source": [
    "class Node:\n",
    "    def __init__(self,key):\n",
    "        self.left = None\n",
    "        self.right = None\n",
    "        self.data = key"
   ]
  },
  {
   "cell_type": "code",
   "execution_count": 2,
   "metadata": {
    "collapsed": true
   },
   "outputs": [],
   "source": [
    "def zigzag(root):\n",
    "    s1 = []\n",
    "    s2 = []\n",
    "    LtR = 1\n",
    "    s1.append(root)\n",
    "    while len(s1) > 0:\n",
    "        temp = s1.pop()\n",
    "        if temp is not None:\n",
    "            print temp.data\n",
    "        if LtR:\n",
    "            if temp.left is not None:\n",
    "                s2.append(temp.left)\n",
    "            if temp.right is not None:\n",
    "                s2.append(temp.right)\n",
    "        else:\n",
    "            if temp.right is not None:\n",
    "                s2.append(temp.right)\n",
    "            if temp.left is not None:\n",
    "                s2.append(temp.left)\n",
    "        if len(s1) == 0:\n",
    "            LtR = 1- LtR\n",
    "            #Swap s1 and s2\n",
    "            curr = s1\n",
    "            s1 = s2\n",
    "            s2 = curr\n",
    "            \n",
    "            "
   ]
  },
  {
   "cell_type": "code",
   "execution_count": 3,
   "metadata": {
    "collapsed": false
   },
   "outputs": [
    {
     "name": "stdout",
     "output_type": "stream",
     "text": [
      "10\n",
      "2\n",
      "8\n",
      "3\n",
      "5\n",
      "2\n"
     ]
    }
   ],
   "source": [
    "root = Node(10)\n",
    "root.left = Node(8)\n",
    "root.right = Node(2)\n",
    "root.left.left = Node(3)\n",
    "root.left.right = Node(5)\n",
    "root.right.left = Node(2)\n",
    "zigzag(root)"
   ]
  }
 ],
 "metadata": {
  "kernelspec": {
   "display_name": "Python 2",
   "language": "python",
   "name": "python2"
  },
  "language_info": {
   "codemirror_mode": {
    "name": "ipython",
    "version": 2
   },
   "file_extension": ".py",
   "mimetype": "text/x-python",
   "name": "python",
   "nbconvert_exporter": "python",
   "pygments_lexer": "ipython2",
   "version": "2.7.12"
  }
 },
 "nbformat": 4,
 "nbformat_minor": 0
}
