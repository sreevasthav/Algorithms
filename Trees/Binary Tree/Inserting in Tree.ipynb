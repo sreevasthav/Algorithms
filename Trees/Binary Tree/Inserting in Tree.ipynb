{
 "cells": [
  {
   "cell_type": "markdown",
   "metadata": {},
   "source": [
    "# Inserting an Element"
   ]
  },
  {
   "cell_type": "code",
   "execution_count": 2,
   "metadata": {
    "collapsed": false
   },
   "outputs": [],
   "source": [
    "class Node:\n",
    "    def __init__(self,key):\n",
    "        self.left = None\n",
    "        self.right = None\n",
    "        self.data = key"
   ]
  },
  {
   "cell_type": "code",
   "execution_count": 1,
   "metadata": {
    "collapsed": false
   },
   "outputs": [],
   "source": [
    "def inserting(root,value):\n",
    "    if root is None:\n",
    "        return -1\n",
    "    queue =  []\n",
    "    queue.append(root)\n",
    "    while len(queue) > 0:\n",
    "        current = queue.pop(0)\n",
    "        if current.left is None:\n",
    "            current.left.data = value\n",
    "            return\n",
    "        else:\n",
    "            queue.append(current.left)\n",
    "        if current.right is None:\n",
    "            current.right.data = value\n",
    "            return\n",
    "        else:\n",
    "            queue.append(current.right)\n",
    "    \n",
    "    "
   ]
  },
  {
   "cell_type": "code",
   "execution_count": null,
   "metadata": {
    "collapsed": true
   },
   "outputs": [],
   "source": []
  }
 ],
 "metadata": {
  "kernelspec": {
   "display_name": "Python 2",
   "language": "python",
   "name": "python2"
  },
  "language_info": {
   "codemirror_mode": {
    "name": "ipython",
    "version": 2
   },
   "file_extension": ".py",
   "mimetype": "text/x-python",
   "name": "python",
   "nbconvert_exporter": "python",
   "pygments_lexer": "ipython2",
   "version": "2.7.12"
  }
 },
 "nbformat": 4,
 "nbformat_minor": 0
}
