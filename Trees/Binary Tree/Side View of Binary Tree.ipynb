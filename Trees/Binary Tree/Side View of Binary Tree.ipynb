{
 "cells": [
  {
   "cell_type": "markdown",
   "metadata": {},
   "source": [
    "# SideView of Binary Tree"
   ]
  },
  {
   "cell_type": "markdown",
   "metadata": {},
   "source": [
    "##Left view of Binary Tree"
   ]
  },
  {
   "cell_type": "code",
   "execution_count": 3,
   "metadata": {
    "collapsed": false
   },
   "outputs": [],
   "source": [
    "class Node:\n",
    "    def __init__(self,key):\n",
    "        self.left = None\n",
    "        self.right = None\n",
    "        self.data = key"
   ]
  },
  {
   "cell_type": "code",
   "execution_count": 4,
   "metadata": {
    "collapsed": true
   },
   "outputs": [],
   "source": [
    "def leftView(root):\n",
    "    maxLevel = [0]\n",
    "    leftviewUtil(root,1,maxLevel)"
   ]
  },
  {
   "cell_type": "code",
   "execution_count": 20,
   "metadata": {
    "collapsed": true
   },
   "outputs": [],
   "source": [
    "def leftviewUtil(root,level,maxLevel):\n",
    "    if root is None:\n",
    "        return\n",
    "    if maxLevel[0] < level:\n",
    "        print \"%d\\t\" %(root.data),\n",
    "        maxLevel[0] = level\n",
    "    leftviewUtil(root.left,level+1,maxLevel)\n",
    "    leftviewUtil(root.right,level+1,maxLevel)"
   ]
  },
  {
   "cell_type": "code",
   "execution_count": 21,
   "metadata": {
    "collapsed": true
   },
   "outputs": [],
   "source": [
    "def rightView(root):\n",
    "    maxLevel = [0]\n",
    "    rightviewUtil(root,1,maxLevel)"
   ]
  },
  {
   "cell_type": "code",
   "execution_count": 22,
   "metadata": {
    "collapsed": true
   },
   "outputs": [],
   "source": [
    "def rightviewUtil(root,level,maxLevel):\n",
    "    if root is None:\n",
    "        return\n",
    "    if maxLevel[0] < level:\n",
    "        print root.data\n",
    "        maxLevel[0] = level\n",
    "    rightviewUtil(root.right,level+1,maxLevel)\n",
    "    rightviewUtil(root.left,level+1,maxLevel)"
   ]
  },
  {
   "cell_type": "code",
   "execution_count": 23,
   "metadata": {
    "collapsed": false
   },
   "outputs": [
    {
     "name": "stdout",
     "output_type": "stream",
     "text": [
      "12\t10\t25\tNone\n",
      "12\n",
      "20\n",
      "40\n",
      "None\n"
     ]
    }
   ],
   "source": [
    "root = Node(12)\n",
    "root.left = Node(10)\n",
    "root.right = Node(20)\n",
    "root.right.left = Node(25)\n",
    "root.right.right = Node(40)\n",
    " \n",
    "print leftView(root)\n",
    "print rightView(root)"
   ]
  },
  {
   "cell_type": "code",
   "execution_count": null,
   "metadata": {
    "collapsed": true
   },
   "outputs": [],
   "source": []
  }
 ],
 "metadata": {
  "kernelspec": {
   "display_name": "Python 2",
   "language": "python",
   "name": "python2"
  },
  "language_info": {
   "codemirror_mode": {
    "name": "ipython",
    "version": 2
   },
   "file_extension": ".py",
   "mimetype": "text/x-python",
   "name": "python",
   "nbconvert_exporter": "python",
   "pygments_lexer": "ipython2",
   "version": "2.7.12"
  }
 },
 "nbformat": 4,
 "nbformat_minor": 0
}
