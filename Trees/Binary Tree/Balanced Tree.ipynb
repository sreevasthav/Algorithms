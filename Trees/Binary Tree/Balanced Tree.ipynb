{
 "cells": [
  {
   "cell_type": "markdown",
   "metadata": {},
   "source": [
    "# Balanced Tree"
   ]
  },
  {
   "cell_type": "code",
   "execution_count": 2,
   "metadata": {
    "collapsed": true
   },
   "outputs": [],
   "source": [
    "class Node:\n",
    "    def __init__(self,key):\n",
    "        self.left = None\n",
    "        self.right = None\n",
    "        self.data = None"
   ]
  },
  {
   "cell_type": "code",
   "execution_count": 3,
   "metadata": {
    "collapsed": true
   },
   "outputs": [],
   "source": [
    "def BalancedTree(root):\n",
    "    if root is None:\n",
    "        return 1\n",
    "    lh = height(root.left)\n",
    "    rh = height(root.right)\n",
    "    if abs(lh-rh) <= 1 and BalancedTree(root.left) and BalancedTree(root.right):\n",
    "        return 1\n",
    "    return 0"
   ]
  },
  {
   "cell_type": "code",
   "execution_count": 4,
   "metadata": {
    "collapsed": true
   },
   "outputs": [],
   "source": [
    "def height(root):\n",
    "    if root is None:\n",
    "        return 0\n",
    "    else:\n",
    "        return 1 + max(height(root.left),height(root.right))"
   ]
  },
  {
   "cell_type": "code",
   "execution_count": 6,
   "metadata": {
    "collapsed": false
   },
   "outputs": [
    {
     "name": "stdout",
     "output_type": "stream",
     "text": [
      "Tree is Balanced\n"
     ]
    }
   ],
   "source": [
    "root = Node(10);\n",
    "root.left = Node(20);\n",
    "root.right = Node(30);\n",
    " \n",
    "root.left.right = Node(40);\n",
    "root.left.left = Node(50);\n",
    "root.right.left = Node(60);\n",
    "root.right.right = Node(70);\n",
    " \n",
    "root.left.left.left = Node(80);\n",
    "root.left.left.right = Node(90);\n",
    "root.left.right.left = Node(80);\n",
    "root.left.right.right = Node(90);\n",
    "root.right.left.left = Node(80);\n",
    "root.right.left.right = Node(90);\n",
    "root.right.right.left = Node(80);\n",
    "root.right.right.right = Node(90);\n",
    "\n",
    "if BalancedTree(root):\n",
    "    print \"Tree is Balanced\"\n",
    "else:\n",
    "    print \"Tree is not Balanced\""
   ]
  },
  {
   "cell_type": "code",
   "execution_count": null,
   "metadata": {
    "collapsed": true
   },
   "outputs": [],
   "source": []
  }
 ],
 "metadata": {
  "kernelspec": {
   "display_name": "Python 2",
   "language": "python",
   "name": "python2"
  },
  "language_info": {
   "codemirror_mode": {
    "name": "ipython",
    "version": 2
   },
   "file_extension": ".py",
   "mimetype": "text/x-python",
   "name": "python",
   "nbconvert_exporter": "python",
   "pygments_lexer": "ipython2",
   "version": "2.7.12"
  }
 },
 "nbformat": 4,
 "nbformat_minor": 0
}
