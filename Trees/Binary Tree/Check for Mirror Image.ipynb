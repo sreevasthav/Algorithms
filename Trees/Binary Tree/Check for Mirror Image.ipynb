{
 "cells": [
  {
   "cell_type": "markdown",
   "metadata": {},
   "source": [
    "# Check for Mirror Trees"
   ]
  },
  {
   "cell_type": "code",
   "execution_count": 1,
   "metadata": {
    "collapsed": true
   },
   "outputs": [],
   "source": [
    "class Node:\n",
    "    def __init__(self,key):\n",
    "        self.left = None\n",
    "        self.right = None\n",
    "        self.data = key"
   ]
  },
  {
   "cell_type": "code",
   "execution_count": 8,
   "metadata": {
    "collapsed": true
   },
   "outputs": [],
   "source": [
    "def CheckMirror(root1,root2):\n",
    "    if root1 is None and root2 is None:\n",
    "        return 1\n",
    "    if root1 is None or root2 is None:\n",
    "        return 0\n",
    "    if root1.data != root2.data:\n",
    "        return 0\n",
    "    else:\n",
    "        return CheckMirror(root1.left,root2.right) and CheckMirror(root1.right,root2.left)"
   ]
  },
  {
   "cell_type": "code",
   "execution_count": 9,
   "metadata": {
    "collapsed": false
   },
   "outputs": [
    {
     "name": "stdout",
     "output_type": "stream",
     "text": [
      "1\n"
     ]
    }
   ],
   "source": [
    "root1 = Node(10)\n",
    "root1.left = Node(8)\n",
    "root1.right = Node(2)\n",
    "root1.left.left = Node(3)\n",
    "root1.left.right = Node(5)\n",
    "root1.right.left = Node(2)\n",
    "\n",
    "root2 = Node(10)\n",
    "root2.right = Node(8)\n",
    "root2.left = Node(2)\n",
    "root2.right.right = Node(3)\n",
    "root2.right.left = Node(5)\n",
    "root2.left.right = Node(2)\n",
    "\n",
    "print CheckMirror(root1,root2)"
   ]
  }
 ],
 "metadata": {
  "kernelspec": {
   "display_name": "Python 2",
   "language": "python",
   "name": "python2"
  },
  "language_info": {
   "codemirror_mode": {
    "name": "ipython",
    "version": 2
   },
   "file_extension": ".py",
   "mimetype": "text/x-python",
   "name": "python",
   "nbconvert_exporter": "python",
   "pygments_lexer": "ipython2",
   "version": "2.7.12"
  }
 },
 "nbformat": 4,
 "nbformat_minor": 0
}
