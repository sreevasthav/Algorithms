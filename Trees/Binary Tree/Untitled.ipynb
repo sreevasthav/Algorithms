{
 "cells": [
  {
   "cell_type": "code",
   "execution_count": 1,
   "metadata": {
    "collapsed": false
   },
   "outputs": [
    {
     "name": "stdout",
     "output_type": "stream",
     "text": [
      "12\t10\t25\t"
     ]
    }
   ],
   "source": [
    "# Python program to print left view of Binary Tree\n",
    "\n",
    "# A binary tree node\n",
    "class Node:\n",
    "\n",
    "\t# Constructor to create a new node\n",
    "\tdef __init__(self, data):\n",
    "\t\tself.data = data\n",
    "\t\tself.left = None\n",
    "\t\tself.right = None\n",
    "\n",
    "\n",
    "# Recursive function pritn left view of a binary tree\n",
    "def leftViewUtil(root, level, max_level):\n",
    "\t\n",
    "\t# Base Case\n",
    "\tif root is None:\n",
    "\t\treturn\n",
    "\n",
    "\t# If this is the first node of its level\n",
    "\tif (max_level[0] < level):\n",
    "\t\tprint \"%d\\t\" %(root.data),\n",
    "\t\tmax_level[0] = level\n",
    "\n",
    "\t# Recur for left and right subtree\n",
    "\tleftViewUtil(root.left, level+1, max_level)\n",
    "\tleftViewUtil(root.right, level+1, max_level)\n",
    "\n",
    "\n",
    "# A wrapper over leftViewUtil()\n",
    "def leftView(root):\n",
    "\tmax_level = [0]\n",
    "\tleftViewUtil(root, 1, max_level)\n",
    "\n",
    "\n",
    "# Driver program to test above function\n",
    "root = Node(12)\n",
    "root.left = Node(10)\n",
    "root.right = Node(20)\n",
    "root.right.left = Node(25)\n",
    "root.right.right = Node(40)\n",
    "\n",
    "leftView(root)\n",
    "\n",
    "# This code is contributed by Nikhil Kumar Singh(nickzuck_007)\n"
   ]
  },
  {
   "cell_type": "code",
   "execution_count": null,
   "metadata": {
    "collapsed": true
   },
   "outputs": [],
   "source": []
  }
 ],
 "metadata": {
  "kernelspec": {
   "display_name": "Python 2",
   "language": "python",
   "name": "python2"
  },
  "language_info": {
   "codemirror_mode": {
    "name": "ipython",
    "version": 2
   },
   "file_extension": ".py",
   "mimetype": "text/x-python",
   "name": "python",
   "nbconvert_exporter": "python",
   "pygments_lexer": "ipython2",
   "version": "2.7.12"
  }
 },
 "nbformat": 4,
 "nbformat_minor": 0
}
