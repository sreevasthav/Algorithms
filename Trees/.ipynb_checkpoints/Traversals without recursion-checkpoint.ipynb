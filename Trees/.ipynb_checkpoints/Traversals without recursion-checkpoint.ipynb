{
 "cells": [
  {
   "cell_type": "markdown",
   "metadata": {},
   "source": [
    "# Traversals without recursion"
   ]
  },
  {
   "cell_type": "code",
   "execution_count": 3,
   "metadata": {
    "collapsed": true
   },
   "outputs": [],
   "source": [
    "class Node:\n",
    "    def __init__(self,key):\n",
    "        self.left = None\n",
    "        self.right = None\n",
    "        self.val = key"
   ]
  },
  {
   "cell_type": "markdown",
   "metadata": {},
   "source": [
    "# PreOrder Traversal"
   ]
  },
  {
   "cell_type": "code",
   "execution_count": 12,
   "metadata": {
    "collapsed": false
   },
   "outputs": [],
   "source": [
    "def preOrder(root):\n",
    "    if root == None :\n",
    "        return\n",
    "    stack = []\n",
    "    current = root\n",
    "    done = 0\n",
    "    while not done:\n",
    "        if current is not None:\n",
    "            print current.val\n",
    "            stack.append(current)\n",
    "            current = current.left\n",
    "        else:\n",
    "            if len(stack) > 0:\n",
    "                current = stack.pop()\n",
    "                current = current.right\n",
    "            else:\n",
    "                done = 1"
   ]
  },
  {
   "cell_type": "code",
   "execution_count": 13,
   "metadata": {
    "collapsed": true
   },
   "outputs": [],
   "source": [
    "def inOrder(root):\n",
    "    if root == None :\n",
    "        return\n",
    "    stack = []\n",
    "    current = root\n",
    "    done = 0\n",
    "    while not done:\n",
    "        if current is not None:\n",
    "            stack.append(current)\n",
    "            current = current.left\n",
    "        else:\n",
    "            if len(stack) > 0:\n",
    "                current = stack.pop()\n",
    "                print current.val\n",
    "                current = current.right\n",
    "            else:\n",
    "                done = 1\n",
    "        "
   ]
  },
  {
   "cell_type": "code",
   "execution_count": 14,
   "metadata": {
    "collapsed": false
   },
   "outputs": [
    {
     "name": "stdout",
     "output_type": "stream",
     "text": [
      "4\n",
      "2\n",
      "5\n",
      "1\n",
      "3\n",
      "1\n",
      "2\n",
      "4\n",
      "5\n",
      "3\n"
     ]
    }
   ],
   "source": [
    "root = Node(1)\n",
    "root.left = Node(2)\n",
    "root.right = Node(3)\n",
    "root.left.left = Node(4)\n",
    "root.left.right = Node(5)\n",
    " \n",
    "inOrder(root)\n",
    "preOrder(root)"
   ]
  },
  {
   "cell_type": "code",
   "execution_count": null,
   "metadata": {
    "collapsed": true
   },
   "outputs": [],
   "source": []
  }
 ],
 "metadata": {
  "kernelspec": {
   "display_name": "Python 2",
   "language": "python",
   "name": "python2"
  },
  "language_info": {
   "codemirror_mode": {
    "name": "ipython",
    "version": 2
   },
   "file_extension": ".py",
   "mimetype": "text/x-python",
   "name": "python",
   "nbconvert_exporter": "python",
   "pygments_lexer": "ipython2",
   "version": "2.7.12"
  }
 },
 "nbformat": 4,
 "nbformat_minor": 0
}
