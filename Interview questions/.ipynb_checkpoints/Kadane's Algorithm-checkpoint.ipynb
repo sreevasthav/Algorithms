{
 "cells": [
  {
   "cell_type": "markdown",
   "metadata": {},
   "source": [
    "# Given an array containing both negative and positive integers. Find the contiguous sub-array with maximum sum."
   ]
  },
  {
   "cell_type": "code",
   "execution_count": 8,
   "metadata": {
    "collapsed": true
   },
   "outputs": [],
   "source": [
    "def Max_sum_sub(A):\n",
    "    n = len(A)\n",
    "    maxi = A[0]\n",
    "    sumi = A[0]\n",
    "    for i in xrange(1,n):\n",
    "        sumi = max(A[i],sumi+A[i])\n",
    "        maxi = max(maxi,sumi)\n",
    "    return maxi"
   ]
  },
  {
   "cell_type": "code",
   "execution_count": 9,
   "metadata": {
    "collapsed": false
   },
   "outputs": [
    {
     "name": "stdout",
     "output_type": "stream",
     "text": [
      "6\n",
      "18\n"
     ]
    }
   ],
   "source": [
    "A = [1,2,3]\n",
    "print(Max_sum_sub(A))\n",
    "A = [1,-1,10,8,-4,0]\n",
    "print(Max_sum_sub(A))"
   ]
  },
  {
   "cell_type": "code",
   "execution_count": null,
   "metadata": {
    "collapsed": true
   },
   "outputs": [],
   "source": []
  }
 ],
 "metadata": {
  "kernelspec": {
   "display_name": "Python 2",
   "language": "python",
   "name": "python2"
  },
  "language_info": {
   "codemirror_mode": {
    "name": "ipython",
    "version": 2
   },
   "file_extension": ".py",
   "mimetype": "text/x-python",
   "name": "python",
   "nbconvert_exporter": "python",
   "pygments_lexer": "ipython2",
   "version": "2.7.12"
  }
 },
 "nbformat": 4,
 "nbformat_minor": 0
}
