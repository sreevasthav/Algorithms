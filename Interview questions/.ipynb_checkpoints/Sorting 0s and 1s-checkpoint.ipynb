{
 "cells": [
  {
   "cell_type": "markdown",
   "metadata": {},
   "source": [
    "# You are given an array of 0s and 1s in random order. Segregate 0s on left side and 1s on right side of the array"
   ]
  },
  {
   "cell_type": "code",
   "execution_count": 2,
   "metadata": {
    "collapsed": false
   },
   "outputs": [],
   "source": [
    "def sort01(A):\n",
    "    n = len(A)\n",
    "    left,right = 0,n-1\n",
    "    while left < right:\n",
    "        while left == 0 and left < right:\n",
    "            left = left + 1\n",
    "        while right == 1 and left < right:\n",
    "            right = right - 1\n",
    "        if left < right:\n",
    "            A[left] = 0\n",
    "            A[right] = 1\n",
    "            left = left + 1\n",
    "            right = right - 1"
   ]
  },
  {
   "cell_type": "code",
   "execution_count": 3,
   "metadata": {
    "collapsed": false
   },
   "outputs": [
    {
     "name": "stdout",
     "output_type": "stream",
     "text": [
      "[0, 0, 0, 0, 0, 0, 1, 1, 1, 1, 1, 1]\n"
     ]
    }
   ],
   "source": [
    "A = [0,0,1,1,1,0,1,0,1,0,1,0]\n",
    "sort01(A)\n",
    "print A"
   ]
  },
  {
   "cell_type": "code",
   "execution_count": null,
   "metadata": {
    "collapsed": true
   },
   "outputs": [],
   "source": []
  }
 ],
 "metadata": {
  "kernelspec": {
   "display_name": "Python 2",
   "language": "python",
   "name": "python2"
  },
  "language_info": {
   "codemirror_mode": {
    "name": "ipython",
    "version": 2
   },
   "file_extension": ".py",
   "mimetype": "text/x-python",
   "name": "python",
   "nbconvert_exporter": "python",
   "pygments_lexer": "ipython2",
   "version": "2.7.12"
  }
 },
 "nbformat": 4,
 "nbformat_minor": 0
}
