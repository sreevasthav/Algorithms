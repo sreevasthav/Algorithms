{
 "cells": [
  {
   "cell_type": "markdown",
   "metadata": {},
   "source": [
    "# Given a number n, find the smallest number that has same set of digits as n and is greater than n. If x is the greatest possible number with its set of digits, then print “not possible”."
   ]
  },
  {
   "cell_type": "code",
   "execution_count": 10,
   "metadata": {
    "collapsed": true
   },
   "outputs": [],
   "source": [
    "def findnext(n):\n",
    "    l = len(n)\n",
    "    for i in xrange(l-1,-1,-1):\n",
    "        if n[i] > n[i-1]:\n",
    "            break\n",
    "    if i == 0:\n",
    "        print \" All digits are in decending order. Next largest number is not possible.\"\n",
    "        return\n",
    "    x = n[i-1]\n",
    "    small = i\n",
    "    for k in range(i,l):\n",
    "        if n[k] > x and n[k] < n[small]:\n",
    "            small = k\n",
    "    n[i-1],n[small] = n[small],n[i-1]\n",
    "    a = n[:i]\n",
    "    b = sorted(n[i:])\n",
    "    n = a + b\n",
    "    return n\n",
    "            "
   ]
  },
  {
   "cell_type": "code",
   "execution_count": 11,
   "metadata": {
    "collapsed": false
   },
   "outputs": [
    {
     "name": "stdout",
     "output_type": "stream",
     "text": [
      "[5, 3, 6, 4, 7, 9]\n"
     ]
    }
   ],
   "source": [
    "print findnext([5,3,4,9,7,6])"
   ]
  }
 ],
 "metadata": {
  "kernelspec": {
   "display_name": "Python 2",
   "language": "python",
   "name": "python2"
  },
  "language_info": {
   "codemirror_mode": {
    "name": "ipython",
    "version": 2
   },
   "file_extension": ".py",
   "mimetype": "text/x-python",
   "name": "python",
   "nbconvert_exporter": "python",
   "pygments_lexer": "ipython2",
   "version": "2.7.12"
  }
 },
 "nbformat": 4,
 "nbformat_minor": 0
}
