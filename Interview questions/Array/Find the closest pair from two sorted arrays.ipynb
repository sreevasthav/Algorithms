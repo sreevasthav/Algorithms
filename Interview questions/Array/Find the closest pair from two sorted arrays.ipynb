{
 "cells": [
  {
   "cell_type": "code",
   "execution_count": 4,
   "metadata": {
    "collapsed": false
   },
   "outputs": [],
   "source": [
    "def closest_Pair(A,B):\n",
    "    m = len(A)\n",
    "    n = len(B)\n",
    "    l=0\n",
    "    diff = None\n",
    "    k = n-1\n",
    "    while l <m and k >=0:\n",
    "        if abs(A[l]-B[k])< diff:\n",
    "            diff = A[l] - B[k]\n",
    "            res_l = l\n",
    "            res_k = k\n",
    "            l = l+1\n",
    "            if l == m:\n",
    "                l=0\n",
    "                k = k-1\n",
    "        elif abs(A[l]-B[k])> diff:\n",
    "            k=k-1"
   ]
  },
  {
   "cell_type": "code",
   "execution_count": null,
   "metadata": {
    "collapsed": true
   },
   "outputs": [],
   "source": []
  },
  {
   "cell_type": "code",
   "execution_count": null,
   "metadata": {
    "collapsed": true
   },
   "outputs": [],
   "source": []
  }
 ],
 "metadata": {
  "kernelspec": {
   "display_name": "Python 2",
   "language": "python",
   "name": "python2"
  },
  "language_info": {
   "codemirror_mode": {
    "name": "ipython",
    "version": 2
   },
   "file_extension": ".py",
   "mimetype": "text/x-python",
   "name": "python",
   "nbconvert_exporter": "python",
   "pygments_lexer": "ipython2",
   "version": "2.7.12"
  }
 },
 "nbformat": 4,
 "nbformat_minor": 0
}
