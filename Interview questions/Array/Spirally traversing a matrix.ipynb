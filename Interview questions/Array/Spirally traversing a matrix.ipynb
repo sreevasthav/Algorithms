{
 "cells": [
  {
   "cell_type": "markdown",
   "metadata": {},
   "source": [
    "# Traverse a 4x4 matrix of integers in spiral form."
   ]
  },
  {
   "cell_type": "code",
   "execution_count": 1,
   "metadata": {
    "collapsed": true
   },
   "outputs": [],
   "source": [
    "def Spiral (A):\n",
    "    m = len(A)\n",
    "    n = len(A[0])\n",
    "    l,k = 0,0\n",
    "    while l < m and k < n:\n",
    "        for i in xrange(k,n):\n",
    "            print A[l][i]\n",
    "        l = l + 1\n",
    "        for i in xrange(l,m):\n",
    "            print A[i][n-1]\n",
    "        n = n - 1\n",
    "        if l < m:\n",
    "            for i in xrange(n-2,k-1,-1):\n",
    "                print A[l][i]\n",
    "            m= m - 1\n",
    "        if k < n:\n",
    "            for i in xrange(m-1,l-1,-1):\n",
    "                print A[i][k]\n",
    "            k = k + 1\n",
    "\n",
    "        "
   ]
  },
  {
   "cell_type": "code",
   "execution_count": null,
   "metadata": {
    "collapsed": true
   },
   "outputs": [],
   "source": []
  }
 ],
 "metadata": {
  "kernelspec": {
   "display_name": "Python 2",
   "language": "python",
   "name": "python2"
  },
  "language_info": {
   "codemirror_mode": {
    "name": "ipython",
    "version": 2
   },
   "file_extension": ".py",
   "mimetype": "text/x-python",
   "name": "python",
   "nbconvert_exporter": "python",
   "pygments_lexer": "ipython2",
   "version": "2.7.12"
  }
 },
 "nbformat": 4,
 "nbformat_minor": 0
}
