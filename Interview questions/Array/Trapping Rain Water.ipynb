{
 "cells": [
  {
   "cell_type": "markdown",
   "metadata": {},
   "source": [
    "# Given n non-negative integers representing an elevation map where the width of each bar is 1, compute how much water it is able to trap after raining."
   ]
  },
  {
   "cell_type": "code",
   "execution_count": 4,
   "metadata": {
    "collapsed": true
   },
   "outputs": [],
   "source": [
    "def trapping(A):\n",
    "    low_max ,right_max = 0,0\n",
    "    n = len(A)\n",
    "    lo,hi = 0,n-1\n",
    "    result = 0\n",
    "    while lo < hi :\n",
    "        if A[lo] < A[hi]:\n",
    "            if A[lo] > low_max:\n",
    "                low_max = A[lo]\n",
    "            else:\n",
    "                result = result + low_max -A[lo]\n",
    "            lo = lo + 1\n",
    "        else:\n",
    "            if A[hi] > right_max :\n",
    "                right_max = A[hi]\n",
    "            else:\n",
    "                result = result + right_max -A[hi]\n",
    "            hi = hi - 1\n",
    "    return result"
   ]
  },
  {
   "cell_type": "code",
   "execution_count": 5,
   "metadata": {
    "collapsed": false
   },
   "outputs": [
    {
     "name": "stdout",
     "output_type": "stream",
     "text": [
      "6\n"
     ]
    }
   ],
   "source": [
    "A = [0, 1, 0, 2, 1, 0, 1, 3, 2, 1, 2, 1]\n",
    "print trapping(A)"
   ]
  },
  {
   "cell_type": "code",
   "execution_count": null,
   "metadata": {
    "collapsed": true
   },
   "outputs": [],
   "source": []
  }
 ],
 "metadata": {
  "kernelspec": {
   "display_name": "Python 2",
   "language": "python",
   "name": "python2"
  },
  "language_info": {
   "codemirror_mode": {
    "name": "ipython",
    "version": 2
   },
   "file_extension": ".py",
   "mimetype": "text/x-python",
   "name": "python",
   "nbconvert_exporter": "python",
   "pygments_lexer": "ipython2",
   "version": "2.7.12"
  }
 },
 "nbformat": 4,
 "nbformat_minor": 0
}
