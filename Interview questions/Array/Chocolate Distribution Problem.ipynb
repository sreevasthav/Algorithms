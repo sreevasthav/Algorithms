{
 "cells": [
  {
   "cell_type": "markdown",
   "metadata": {},
   "source": [
    "## Given an array A[] of N integers where each value represents number of chocolates in a packet. Each packet can have variable number of chocolates. There are m students, the task is to distribute chocolate packets such that :\n",
    "1. Each student gets one packet.\n",
    "2. The difference between the number of chocolates given to the students in packet with maximum chocolates and packet with minimum chocolates is minimum.\n",
    "\n",
    " "
   ]
  },
  {
   "cell_type": "code",
   "execution_count": 1,
   "metadata": {
    "collapsed": true
   },
   "outputs": [],
   "source": [
    "def Choc_dist(A,m):\n",
    "    n = len(A)\n",
    "    A.sort()\n",
    "    min_diff = 1000000\n",
    "    for i in range(0,n-m+1):\n",
    "        diff = A[i+m-1] - A[i]\n",
    "        if diff < min_diff:\n",
    "            first = i\n",
    "            last = i+m-1\n",
    "    return A[last] - A[first]\n",
    "        "
   ]
  },
  {
   "cell_type": "code",
   "execution_count": 2,
   "metadata": {
    "collapsed": false
   },
   "outputs": [
    {
     "name": "stdout",
     "output_type": "stream",
     "text": [
      "10\n"
     ]
    }
   ],
   "source": [
    "A = [12, 4, 7, 9, 2, 23, 25, 41,\n",
    "                 30, 40, 28, 42, 30, 44, 48,\n",
    "                 43, 50]\n",
    "print Choc_dist(A,7)"
   ]
  },
  {
   "cell_type": "code",
   "execution_count": null,
   "metadata": {
    "collapsed": true
   },
   "outputs": [],
   "source": []
  }
 ],
 "metadata": {
  "kernelspec": {
   "display_name": "Python 2",
   "language": "python",
   "name": "python2"
  },
  "language_info": {
   "codemirror_mode": {
    "name": "ipython",
    "version": 2
   },
   "file_extension": ".py",
   "mimetype": "text/x-python",
   "name": "python",
   "nbconvert_exporter": "python",
   "pygments_lexer": "ipython2",
   "version": "2.7.12"
  }
 },
 "nbformat": 4,
 "nbformat_minor": 0
}
