{
 "cells": [
  {
   "cell_type": "markdown",
   "metadata": {},
   "source": [
    "# Given arrival and departure times of all trains that reach a railway station, find the minimum number of platforms required for the railway station so that no train waits."
   ]
  },
  {
   "cell_type": "code",
   "execution_count": 8,
   "metadata": {
    "collapsed": true
   },
   "outputs": [],
   "source": [
    "def Min_platform(A,B):\n",
    "    n = len(A)\n",
    "    A.sort()\n",
    "    B.sort()\n",
    "    i = 1\n",
    "    j = 0\n",
    "    plat = 1\n",
    "    result = 1\n",
    "    while i < n and j < n:\n",
    "        if A[i] < B[j]:\n",
    "            plat = plat + 1\n",
    "            i = i + 1\n",
    "            if plat > result:\n",
    "                result = plat\n",
    "        else:\n",
    "            plat = plat - 1\n",
    "            j = j + 1\n",
    "    return result\n",
    "            "
   ]
  },
  {
   "cell_type": "code",
   "execution_count": 9,
   "metadata": {
    "collapsed": false
   },
   "outputs": [
    {
     "name": "stdout",
     "output_type": "stream",
     "text": [
      "3\n"
     ]
    }
   ],
   "source": [
    "A = [900, 940, 950, 1100, 1500, 1800]\n",
    "B = [910, 1200, 1120, 1130, 1900, 2000]\n",
    "print Min_platform(A,B)"
   ]
  },
  {
   "cell_type": "code",
   "execution_count": null,
   "metadata": {
    "collapsed": true
   },
   "outputs": [],
   "source": []
  }
 ],
 "metadata": {
  "kernelspec": {
   "display_name": "Python 2",
   "language": "python",
   "name": "python2"
  },
  "language_info": {
   "codemirror_mode": {
    "name": "ipython",
    "version": 2
   },
   "file_extension": ".py",
   "mimetype": "text/x-python",
   "name": "python",
   "nbconvert_exporter": "python",
   "pygments_lexer": "ipython2",
   "version": "2.7.12"
  }
 },
 "nbformat": 4,
 "nbformat_minor": 0
}
