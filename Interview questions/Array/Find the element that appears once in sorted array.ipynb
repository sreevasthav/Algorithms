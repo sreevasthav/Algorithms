{
 "cells": [
  {
   "cell_type": "code",
   "execution_count": 5,
   "metadata": {
    "collapsed": true
   },
   "outputs": [],
   "source": [
    "def element_sort (A,left,right):\n",
    "    if left == right:\n",
    "        return A[left]\n",
    "    mid = (left + right)/2\n",
    "    if mid % 2 == 0 :\n",
    "        if A[mid] == A[mid+1]:\n",
    "            element_sort(A,mid+2,right)\n",
    "        else:\n",
    "            element_sort(A,left,mid)\n",
    "    else:\n",
    "        if A[mid] == A[mid-1]:\n",
    "            element_sort(A,mid-2,right)\n",
    "        else:\n",
    "            element_sort(A,left,mid-1)\n",
    "            "
   ]
  },
  {
   "cell_type": "code",
   "execution_count": 6,
   "metadata": {
    "collapsed": false
   },
   "outputs": [
    {
     "name": "stdout",
     "output_type": "stream",
     "text": [
      "None\n"
     ]
    }
   ],
   "source": [
    "A = [1, 1, 2, 4, 4, 5, 5, 6, 6]\n",
    "print element_sort(A,0,len(A)-1)"
   ]
  },
  {
   "cell_type": "code",
   "execution_count": null,
   "metadata": {
    "collapsed": true
   },
   "outputs": [],
   "source": []
  },
  {
   "cell_type": "code",
   "execution_count": null,
   "metadata": {
    "collapsed": true
   },
   "outputs": [],
   "source": []
  }
 ],
 "metadata": {
  "kernelspec": {
   "display_name": "Python 2",
   "language": "python",
   "name": "python2"
  },
  "language_info": {
   "codemirror_mode": {
    "name": "ipython",
    "version": 2
   },
   "file_extension": ".py",
   "mimetype": "text/x-python",
   "name": "python",
   "nbconvert_exporter": "python",
   "pygments_lexer": "ipython2",
   "version": "2.7.12"
  }
 },
 "nbformat": 4,
 "nbformat_minor": 0
}
