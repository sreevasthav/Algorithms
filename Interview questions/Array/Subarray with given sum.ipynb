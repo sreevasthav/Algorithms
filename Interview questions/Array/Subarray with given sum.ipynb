{
 "cells": [
  {
   "cell_type": "markdown",
   "metadata": {},
   "source": [
    "# Given an unsorted array of non-negative integers, find a continuous sub-array which adds to a given number."
   ]
  },
  {
   "cell_type": "code",
   "execution_count": 5,
   "metadata": {
    "collapsed": true
   },
   "outputs": [],
   "source": [
    "def sum_subarray(A,m):\n",
    "    n = len(A)\n",
    "    curr_sum = A[0]\n",
    "    start = 0\n",
    "    for i in xrange(1,n+1):\n",
    "        while start < (i-1) and curr_sum > m:\n",
    "            curr_sum = curr_sum - A[start]\n",
    "            start = start + 1\n",
    "        if m == curr_sum:\n",
    "            return 1\n",
    "        elif i < n:\n",
    "            curr_sum = curr_sum + A[i]\n",
    "    return 0"
   ]
  },
  {
   "cell_type": "code",
   "execution_count": 6,
   "metadata": {
    "collapsed": false
   },
   "outputs": [
    {
     "name": "stdout",
     "output_type": "stream",
     "text": [
      "0\n"
     ]
    }
   ],
   "source": [
    "A = [1,2,3,5,10]\n",
    "m = 13\n",
    "print sum_subarray(A,m)"
   ]
  },
  {
   "cell_type": "code",
   "execution_count": null,
   "metadata": {
    "collapsed": true
   },
   "outputs": [],
   "source": []
  }
 ],
 "metadata": {
  "kernelspec": {
   "display_name": "Python 2",
   "language": "python",
   "name": "python2"
  },
  "language_info": {
   "codemirror_mode": {
    "name": "ipython",
    "version": 2
   },
   "file_extension": ".py",
   "mimetype": "text/x-python",
   "name": "python",
   "nbconvert_exporter": "python",
   "pygments_lexer": "ipython2",
   "version": "2.7.12"
  }
 },
 "nbformat": 4,
 "nbformat_minor": 0
}
