{
 "cells": [
  {
   "cell_type": "markdown",
   "metadata": {},
   "source": [
    "## Given an unsorted array of size N. Find the first element in array such that all of its left elements are smaller and all right elements to it are greater than it."
   ]
  },
  {
   "cell_type": "code",
   "execution_count": 8,
   "metadata": {
    "collapsed": false
   },
   "outputs": [],
   "source": [
    "def element(A):\n",
    "    n = len(A)\n",
    "    right_min = [100000]*n\n",
    "    for i in range(n-1,0,-1):\n",
    "        right_min[i-1] = min(right_min[i],A[i])\n",
    "    left_max = -100000\n",
    "    for i in range(n):\n",
    "        if A[i] > left_max and A[i] < right_min[i]:\n",
    "            return A[i]\n",
    "        left_max = max(left_max,A[i])\n",
    "            \n",
    "            "
   ]
  },
  {
   "cell_type": "code",
   "execution_count": 9,
   "metadata": {
    "collapsed": false
   },
   "outputs": [
    {
     "name": "stdout",
     "output_type": "stream",
     "text": [
      "6\n"
     ]
    }
   ],
   "source": [
    "A = [5, 1, 4, 3, 6, 8, 10, 7, 9]\n",
    "print element(A)"
   ]
  },
  {
   "cell_type": "code",
   "execution_count": null,
   "metadata": {
    "collapsed": true
   },
   "outputs": [],
   "source": []
  }
 ],
 "metadata": {
  "kernelspec": {
   "display_name": "Python 2",
   "language": "python",
   "name": "python2"
  },
  "language_info": {
   "codemirror_mode": {
    "name": "ipython",
    "version": 2
   },
   "file_extension": ".py",
   "mimetype": "text/x-python",
   "name": "python",
   "nbconvert_exporter": "python",
   "pygments_lexer": "ipython2",
   "version": "2.7.12"
  }
 },
 "nbformat": 4,
 "nbformat_minor": 0
}
